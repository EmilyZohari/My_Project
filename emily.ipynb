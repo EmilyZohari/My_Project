{
 "cells": [
  {
   "cell_type": "markdown",
   "metadata": {},
   "source": [
    "# Project No 1 – Python Programming"
   ]
  },
  {
   "cell_type": "markdown",
   "metadata": {},
   "source": [
    "## PART I"
   ]
  },
  {
   "cell_type": "markdown",
   "metadata": {},
   "source": [
    "### Tast 1 -Defineing the class"
   ]
  },
  {
   "cell_type": "code",
   "execution_count": 1,
   "metadata": {},
   "outputs": [],
   "source": [
    "class node: \n",
    "    #Attributes\n",
    "    def __init__(self,node_name):#the “name” of the node \n",
    "        self.name=node_name\n",
    "        self.neighbors={}\n",
    "     \n",
    "    \n",
    "    #Methods:\n",
    "    \n",
    "    def __str__(self):\n",
    "        return \"The Node Name is:\" + str(self.name) + \" And His Neighbors Are \" + str(self.neighbors)\n",
    "    \n",
    "    def __len__(self):#returns the number of neighbors \n",
    "        return len(self.neighbors)\n",
    "\n",
    "    def __contains__(self, item): #returns whether item is a name of a neighbor of self.\n",
    "        return True if item in self.neighbors else False\n",
    "\n",
    "    def __getitem__(self, key):#returns the weight of the neighbor named key. If there is no such \n",
    "       \n",
    "        return self.neighbors[key] if key in self.neighbors else None\n",
    "    \n",
    "    def __eq__(self, other):#based on the name attribute \n",
    "     \n",
    "        return self.name == other.name\n",
    "\n",
    "    def __ne__(self, other):\n",
    "       \n",
    "        return not (self == other)\n",
    "\n",
    "    def is_neighbor(self, name):# returns True if name is a neighbor of self. \n",
    "       \n",
    "        return name in self\n",
    "    \n",
    "    \n",
    "    def add_neighbor(self, neighbor_name, weight=1):#adds name as a neighbor of self. \n",
    "     \n",
    "        if neighbor_name == self.name:\n",
    "            print(\"wrong, a node can't be his own neighbor.cheak it\")\n",
    "            return False\n",
    "        else:\n",
    "            self.neighbors[neighbor_name] = weight\n",
    "            return True\n",
    "       \n",
    "        \n",
    "\n",
    "    def remove_neighbor(self, name):#removes name from being a neighbor of self. \n",
    "        return self.neighbors.pop(name, None)\n",
    "    \n",
    "    def get_weight(self, name):# returns the weight of the relevant edge. \n",
    "       \n",
    "        return self[name]\n",
    "    \n",
    "    \n",
    "    \n",
    "    def is_isolated(self):#returns True if self has no neighbors \n",
    "\n",
    "        return len(self) == 0\n",
    "\n",
    "    def total_edge_weight(self):\n",
    "        \n",
    "        num_edge = 0\n",
    "        total_weight = 0\n",
    "        for weight in self.neighbors.values():\n",
    "            num_edge += 1\n",
    "            total_weight += weight\n",
    "        return num_edge, total_weight\n",
    "  "
   ]
  },
  {
   "cell_type": "markdown",
   "metadata": {},
   "source": [
    "## Tast 2 -Exemplary Usage"
   ]
  },
  {
   "cell_type": "markdown",
   "metadata": {},
   "source": [
    "#### Question 1-Creating The Nodes"
   ]
  },
  {
   "cell_type": "code",
   "execution_count": 2,
   "metadata": {},
   "outputs": [
    {
     "name": "stdout",
     "output_type": "stream",
     "text": [
      "The Node Name is:6 And His Neighbors Are {}\n",
      "The Node Name is:1 And His Neighbors Are {}\n"
     ]
    }
   ],
   "source": [
    "node_1 = node(1)\n",
    "node_2 = node(2)\n",
    "node_3 = node(3)\n",
    "node_4 = node(4)\n",
    "node_5 = node(5)\n",
    "node_6 = node(6)\n",
    "node_7 = node(7)\n",
    "node_8 = node(8)\n",
    "node_9 = node(9)\n",
    "node_10 = node(10)\n",
    "\n",
    "#cheak that it works:  \n",
    "print (node_6)\n",
    "print (node_1)\n"
   ]
  },
  {
   "cell_type": "code",
   "execution_count": 3,
   "metadata": {},
   "outputs": [
    {
     "name": "stdout",
     "output_type": "stream",
     "text": [
      "The Node Name is:1 And His Neighbors Are {5: 20, 6: 5, 7: 15, 2: 10, 4: 20}\n",
      "The Node Name is:2 And His Neighbors Are {4: 10, 3: 5}\n",
      "The Node Name is:3 And His Neighbors Are {4: 5, 2: 15}\n",
      "The Node Name is:4 And His Neighbors Are {5: 10}\n",
      "The Node Name is:5 And His Neighbors Are {6: 5}\n",
      "The Node Name is:6 And His Neighbors Are {}\n",
      "The Node Name is:7 And His Neighbors Are {6: 10}\n",
      "The Node Name is:8 And His Neighbors Are {1: 5, 2: 20, 7: 5}\n",
      "The Node Name is:9 And His Neighbors Are {2: 15, 10: 10, 8: 20}\n",
      "The Node Name is:10 And His Neighbors Are {2: 5, 3: 15}\n"
     ]
    }
   ],
   "source": [
    "#AddingNeighborsToTheNodes:\n",
    "\n",
    "#node1:\n",
    "node_1.add_neighbor(5,20)\n",
    "node_1.add_neighbor(6,5)\n",
    "node_1.add_neighbor(7,15)\n",
    "node_1.add_neighbor(2,10)\n",
    "node_1.add_neighbor(4,20)\n",
    "\n",
    "#node2:\n",
    "\n",
    "node_2.add_neighbor(4,10)\n",
    "node_2.add_neighbor(3,5)\n",
    "\n",
    "#node3:\n",
    "\n",
    "node_3.add_neighbor(4,5)\n",
    "node_3.add_neighbor(2,15)\n",
    "\n",
    "#node4:\n",
    "\n",
    "node_4.add_neighbor(5,10)\n",
    "\n",
    "#node5:\n",
    "\n",
    "node_5.add_neighbor(6,5)\n",
    "\n",
    "#node6:\n",
    "\n",
    "#node7:\n",
    "\n",
    "node_7.add_neighbor(6,10)\n",
    "\n",
    "#node8:\n",
    "\n",
    "node_8.add_neighbor(1,5)\n",
    "node_8.add_neighbor(2,20)\n",
    "node_8.add_neighbor(7,5)\n",
    "\n",
    "#node9:\n",
    "\n",
    "node_9.add_neighbor(2,15)\n",
    "node_9.add_neighbor(10,10)\n",
    "node_9.add_neighbor(8,20)\n",
    "\n",
    "#node10:\n",
    "\n",
    "node_10.add_neighbor(2,5)\n",
    "node_10.add_neighbor(3,15)\n",
    "\n",
    "\n",
    "\n",
    "\n",
    "\n",
    "my_list =[node_1,node_2,node_3,node_4,node_5,node_6,node_7,node_8,node_9,node_10]\n",
    "for my_node in my_list:\n",
    "    print (my_node)\n",
    "\n",
    "\n"
   ]
  },
  {
   "cell_type": "markdown",
   "metadata": {},
   "source": [
    "### Question 2- implementation tests\n"
   ]
  },
  {
   "cell_type": "code",
   "execution_count": 4,
   "metadata": {},
   "outputs": [
    {
     "name": "stdout",
     "output_type": "stream",
     "text": [
      "\n",
      "#####Check Neighbors:####\n",
      "is 10 a neighbor of node_1 ?: False\n",
      "is 1 a neighbor of node_8 ?: True\n",
      "is 2 a neighbor of node_3 ?: True\n",
      "\n",
      "#####Check Isoat ifed Nodes:####\n",
      "Check if node_1 isoated ? : False\n",
      "Check if node_6 isoated ? : True\n",
      "\n",
      "#####Check weight:####\n",
      "what is the weight of neighbor 2 in node_1  ? : 10\n",
      "what is the weight of neighbor 8 in node_1  ? : None\n"
     ]
    }
   ],
   "source": [
    "print('\\n''#####Check Neighbors:####')\n",
    "\n",
    "print (\"is 10 a neighbor of node_1 ?: {}\".format(node_1.is_neighbor(10)))\n",
    "print (\"is 1 a neighbor of node_8 ?: {}\".format(node_8.is_neighbor(1)))\n",
    "print (\"is 2 a neighbor of node_3 ?: {}\".format(node_3.is_neighbor(2)))\n",
    "\n",
    "print('\\n''#####Check Isoat ifed Nodes:####')\n",
    "print(\"Check if node_1 isoated ? : {}\".format(node_1.is_isolated()))\n",
    "print(\"Check if node_6 isoated ? : {}\".format(node_6.is_isolated()))\n",
    "\n",
    "\n",
    "print('\\n''#####Check weight:####')\n",
    "print(\"what is the weight of neighbor 2 in node_1  ? : {}\".format(node_1.get_weight(2)))\n",
    "print(\"what is the weight of neighbor 8 in node_1  ? : {}\".format(node_1.get_weight(8))) # 8 isn't  neighbor of 1"
   ]
  },
  {
   "cell_type": "code",
   "execution_count": 5,
   "metadata": {},
   "outputs": [],
   "source": [
    "import functools"
   ]
  },
  {
   "cell_type": "code",
   "execution_count": 17,
   "metadata": {},
   "outputs": [],
   "source": [
    "list_graph_nodes = [node_1, node_2, node_3, node_4, node_5, node_6, node_7, node_8, node_9, node_10]\n",
    "my_node_names = []\n",
    "my_temp_list = []\n",
    "\n",
    "\n",
    "\n",
    "for item in list_graph_nodes:\n",
    "    my_temp_list.append(item.total_edge_weight())\n",
    "    my_node_names.append(item.name)\n",
    "    my_edges, my_weight = zip(*my_temp_list)\n",
    "        \n"
   ]
  },
  {
   "cell_type": "markdown",
   "metadata": {},
   "source": [
    "#### Question 3"
   ]
  },
  {
   "cell_type": "code",
   "execution_count": 7,
   "metadata": {},
   "outputs": [
    {
     "name": "stdout",
     "output_type": "stream",
     "text": [
      "The number of edges in the graph are:\n",
      "\n",
      "20\n",
      "\n",
      "The total weights in the graph is:\n",
      "\n",
      "225\n"
     ]
    }
   ],
   "source": [
    "\n",
    "print('The number of edges in the graph are:\\n')\n",
    "print(functools.reduce(lambda a,b : a+b,my_edges))\n",
    "print('\\n''The total weights in the graph is:\\n')\n",
    "print (functools.reduce(lambda a,b : a+b,my_weight))\n",
    "    "
   ]
  },
  {
   "cell_type": "markdown",
   "metadata": {},
   "source": [
    "#### Question 4"
   ]
  },
  {
   "cell_type": "code",
   "execution_count": 8,
   "metadata": {},
   "outputs": [
    {
     "name": "stdout",
     "output_type": "stream",
     "text": [
      "The Node Name is:1 And His Neighbors Are {5: 20, 6: 5, 7: 15, 2: 10, 4: 20} has 5 neighbors\n",
      "The Node Name is:8 And His Neighbors Are {1: 5, 2: 20, 7: 5} has 3 neighbors\n",
      "The Node Name is:9 And His Neighbors Are {2: 15, 10: 10, 8: 20} has 3 neighbors\n",
      "The Node Name is:2 And His Neighbors Are {4: 10, 3: 5} has 2 neighbors\n",
      "The Node Name is:3 And His Neighbors Are {4: 5, 2: 15} has 2 neighbors\n",
      "The Node Name is:10 And His Neighbors Are {2: 5, 3: 15} has 2 neighbors\n",
      "The Node Name is:4 And His Neighbors Are {5: 10} has 1 neighbors\n",
      "The Node Name is:5 And His Neighbors Are {6: 5} has 1 neighbors\n",
      "The Node Name is:7 And His Neighbors Are {6: 10} has 1 neighbors\n",
      "The Node Name is:6 And His Neighbors Are {} has 0 neighbors\n"
     ]
    }
   ],
   "source": [
    "sorted_Node_list = sorted(my_list, key = lambda x: len(x), reverse=True)\n",
    "\n",
    "for i in range(10) :\n",
    "    print (str(sorted_Node_list[i]) + ' has ' + str(len(sorted_Node_list[i])) + ' neighbors')"
   ]
  },
  {
   "cell_type": "markdown",
   "metadata": {},
   "source": [
    "## Part II"
   ]
  },
  {
   "cell_type": "markdown",
   "metadata": {},
   "source": [
    "### Task 1-Define the Class"
   ]
  },
  {
   "cell_type": "code",
   "execution_count": 9,
   "metadata": {},
   "outputs": [],
   "source": [
    "class Graph:\n",
    "#attributes\n",
    "    def __init__(self, name, nodes=None):\n",
    "   \n",
    "        if nodes is None:\n",
    "            nodes = []\n",
    "        self.name = name\n",
    "        self.nodes = dict(map(lambda x: (x.name, x), nodes))\n",
    "\n",
    "        \n",
    "#methods        \n",
    "        \n",
    "    def __str__(self):\n",
    "      \n",
    "        my_string = \"Graph name : {} \\n\".format(self.name)\n",
    "        my_string += '\\n'.join([str(node) for node in self.nodes.values()])\n",
    "        return my_string\n",
    "    \n",
    "    def __len__(self):\n",
    "       \n",
    "        return len(self.nodes)\n",
    "\n",
    "    def __contains__(self, key):\n",
    "        \n",
    "        if isinstance(key, Node):\n",
    "            return key in self.nodes.values()\n",
    "        else:\n",
    "            return key in self.nodes\n",
    "        \n",
    "    def __getitem__(self, name):\n",
    "   \n",
    "        try:\n",
    "            return self.nodes[name]\n",
    "        except KeyError:\n",
    "            raise \"KeyError '{}' - is not a node in graph '{}'  \".format(name, self.name)\n",
    "\n",
    "    def add_node(self, node):\n",
    "    \n",
    "        if node.name not in self:\n",
    "            self.nodes[node.name] = node\n",
    "        else:\n",
    "            for neighbor_name in node.neighbors:\n",
    "                self[node.name].add_neighbor(neighbor_name, node[neighbor_name])\n",
    "\n",
    "        # If node has neighbors that are not already in self, then this method should create the relevant nodes\n",
    "        for neighbor in node.neighbors:\n",
    "            if neighbor not in self:\n",
    "                self.nodes[neighbor] = Node(neighbor)\n",
    "                \n",
    "    def __add__(self, other):\n",
    "       \n",
    "        new_graph = Graph(self.name + ' + ' + other.name, [])\n",
    "        for node in self.nodes.values():\n",
    "            new_graph.add_node(node)\n",
    "        for node in other.nodes.values():\n",
    "            new_graph.add_node(node)\n",
    "        return new_graph\n",
    "\n",
    "    def remove_node(self, name):\n",
    "       \n",
    "        res = self.nodes.pop(name, None)\n",
    "        for my_node in self.nodes.values():\n",
    "            my_node.remove_neighbor(name)\n",
    "        return res          \n",
    "                \n",
    "    \n",
    "    def is_edge(self, frm_name, to_name):\n",
    "       \n",
    "        return self[frm_name].is_neighbor(to_name) if (frm_name in self) and (to_name in self) else False\n",
    "\n",
    "    def add_edge(self, frm_name, to_name, weight=1):\n",
    "        # type: (object, object, object) -> object\n",
    "        \n",
    "        if frm_name not in self:\n",
    "            self.nodes[frm_name] = Node(frm_name)\n",
    "            self.add_edge(frm_name, to_name, weight)  # recursive\n",
    "            return\n",
    "        else:\n",
    "            self.nodes[frm_name].add_neighbor(to_name, weight)\n",
    "        if to_name not in self:\n",
    "            self.nodes[to_name] = Node(to_name)\n",
    "    \n",
    "    def remove_edge(self, frm_name, to_name):\n",
    "   \n",
    "        return self.nodes[frm_name].remove_neighbor(to_name) if self.is_edge(frm_name, to_name)else None\n",
    "        \n",
    "    def get_edge_weight(self, frm_name, to_name):\n",
    "        \n",
    "        return self.nodes[frm_name].get_weight(to_name) if self.is_edge(frm_name, to_name)else None\n",
    "    \n",
    "   \n",
    "    \n",
    " \n",
    "        def get_path_weight(self, path):\n",
    "            lst_edges = zip (Path[:-1], Path[1:])\n",
    "            Path_Weight = map(lambda  item: self.Get_Edge_Weight(item[0], item[1]), Path_Edges)\n",
    "            aa = list(Path_Weight)\n",
    "        if all(Path_Weight) and None not in aa: \n",
    "            y = 0\n",
    "            for x in aa:\n",
    "                y += x\n",
    "            return y \n",
    "        else:\n",
    "            return None\n",
    "        \n",
    "    def is_reachable(self, frm_name, to_name):\n",
    "\n",
    "        nodes_not_visited = list(self.nodes)\n",
    "       \n",
    "        queue = [frm_name]\n",
    "        \n",
    "        nodes_not_visited.remove(frm_name)\n",
    "        while queue:\n",
    "            n = queue.pop(0)\n",
    "            if n == to_name:\n",
    "                return True\n",
    "\n",
    "            for neighbor_name in self.nodes[n].neighbors:\n",
    "                if neighbor_name in nodes_not_visited:\n",
    "                    queue.append(neighbor_name)\n",
    "                    nodes_not_visited.remove(neighbor_name)\n",
    "                   \n",
    "        return False\n",
    "    \n",
    "    \n",
    "    def find_shortest_path_all(self, frm_name):\n",
    " \n",
    "        nodes_not_visited = list(self.nodes)\n",
    "\n",
    "        distances = dict(zip(list(self.nodes), [-1] * len(self)))\n",
    "        path_frm_name = dict(zip(list(self.nodes), [[]] * len(self)))\n",
    "\n",
    "        queue = [frm_name]\n",
    "\n",
    "\n",
    "        nodes_not_visited.remove(frm_name)\n",
    "        distances[frm_name] = 0\n",
    "        path_frm_name[frm_name] = [frm_name]\n",
    "        while queue:\n",
    "\n",
    "            node_from_queue = queue.pop(0)\n",
    "\n",
    "            for neighbor_of_n in self.nodes[node_from_queue].neighbors:\n",
    "                if neighbor_of_n in nodes_not_visited:  # once we checked the vertex there is no need to re-check it\n",
    "                    queue.append(neighbor_of_n)\n",
    "                    nodes_not_visited.remove(neighbor_of_n)\n",
    "                frm_to_weight = int(self.get_edge_weight(node_from_queue, neighbor_of_n))\n",
    "                if (distances[neighbor_of_n] == -1) or \\\n",
    "                        (distances[neighbor_of_n] > distances[node_from_queue] + frm_to_weight):\n",
    "                    distances[neighbor_of_n] = distances[node_from_queue] + frm_to_weight\n",
    "                    path_frm_name[neighbor_of_n] = path_frm_name[node_from_queue] + []  \n",
    "          \n",
    "                    path_frm_name[neighbor_of_n].append(neighbor_of_n)\n",
    "                return distances, path_frm_name\n",
    "\n",
    "    def find_shortest_path(self, frm_name, to_name):\n",
    "        if self.is_reachable(frm_name, to_name):\n",
    "            all_distances, all_path_frm_name = self.find_shortest_path_all(\n",
    "                frm_name)  # we assume that a node is reachable to itself\n",
    "            return all_path_frm_name[to_name]\n",
    "\n",
    "        else:\n",
    "            return None\n",
    "            "
   ]
  },
  {
   "cell_type": "markdown",
   "metadata": {},
   "source": [
    "### Task 2-Exemplary usage "
   ]
  },
  {
   "cell_type": "code",
   "execution_count": 15,
   "metadata": {},
   "outputs": [
    {
     "ename": "NameError",
     "evalue": "name 'Node' is not defined",
     "output_type": "error",
     "traceback": [
      "\u001b[1;31m---------------------------------------------------------------------------\u001b[0m",
      "\u001b[1;31mNameError\u001b[0m                                 Traceback (most recent call last)",
      "\u001b[1;32m<ipython-input-15-465ae7eee8a7>\u001b[0m in \u001b[0;36m<module>\u001b[1;34m()\u001b[0m\n\u001b[1;32m----> 1\u001b[1;33m \u001b[0mnode_a\u001b[0m\u001b[1;33m=\u001b[0m\u001b[0mNode\u001b[0m\u001b[1;33m(\u001b[0m\u001b[1;34m'a'\u001b[0m\u001b[1;33m)\u001b[0m\u001b[1;33m\u001b[0m\u001b[0m\n\u001b[0m\u001b[0;32m      2\u001b[0m \u001b[0mnode_a\u001b[0m\u001b[1;33m.\u001b[0m\u001b[0madd_neighbor\u001b[0m\u001b[1;33m(\u001b[0m\u001b[1;34m'b'\u001b[0m\u001b[1;33m,\u001b[0m\u001b[1;36m1\u001b[0m\u001b[1;33m)\u001b[0m\u001b[1;33m\u001b[0m\u001b[0m\n\u001b[0;32m      3\u001b[0m \u001b[0mnode_a\u001b[0m\u001b[1;33m.\u001b[0m\u001b[0madd_neighbor\u001b[0m\u001b[1;33m(\u001b[0m\u001b[1;34m'c'\u001b[0m\u001b[1;33m,\u001b[0m\u001b[1;36m10\u001b[0m\u001b[1;33m)\u001b[0m\u001b[1;33m\u001b[0m\u001b[0m\n\u001b[0;32m      4\u001b[0m \u001b[0mnode_a\u001b[0m\u001b[1;33m.\u001b[0m\u001b[0madd_neighbor\u001b[0m\u001b[1;33m(\u001b[0m\u001b[1;34m'f'\u001b[0m\u001b[1;33m,\u001b[0m\u001b[1;36m7\u001b[0m\u001b[1;33m)\u001b[0m\u001b[1;33m\u001b[0m\u001b[0m\n\u001b[0;32m      5\u001b[0m \u001b[0mprint\u001b[0m \u001b[1;33m(\u001b[0m\u001b[0mnode_a\u001b[0m\u001b[1;33m)\u001b[0m\u001b[1;33m\u001b[0m\u001b[0m\n",
      "\u001b[1;31mNameError\u001b[0m: name 'Node' is not defined"
     ]
    }
   ],
   "source": [
    "node_a=Node('a')\n",
    "node_a.add_neighbor('b',1)\n",
    "node_a.add_neighbor('c',10)\n",
    "node_a.add_neighbor('f',7)\n",
    "print (node_a)\n",
    "node_b=Node('b')\n",
    "node_b.add_neighbor('c',7)\n",
    "node_b.add_neighbor('d',2)\n",
    "print (node_b)\n",
    "node_c=Node('c')\n",
    "print (node_c)\n",
    "node_d=Node('d')\n",
    "node_d.add_neighbor('e',1)\n",
    "node_d.add_neighbor('f',10)\n",
    "node_d.add_neighbor('c',3)\n",
    "print (node_d)\n",
    "node_e=Node('e')\n",
    "node_e.add_neighbor('f',5)\n",
    "node_e.add_neighbor('c',1)\n",
    "print (node_e)\n",
    "node_f=Node('f')\n",
    "node_f.add_neighbor('e',5)\n",
    "print (node_f)\n",
    "node_B=Node('b')\n",
    "node_B.add_neighbor('c',1007)\n",
    "node_B.add_neighbor('m',2)\n",
    "print (node_B)\n",
    "graph_1= Graph('graph_1',[node_1,node_2,node_3,node_4])\n",
    "graph_2= Graph('graph_2',[node_5,node_6,node_7])\n",
    "graph_3= Graph('graph_3',[node_8,node_9,node_10])\n",
    "print (graph_1)\n",
    "print (graph_2)\n",
    "print (graph_3)\n",
    "graph_4 = graph_1 + graph_2 + graph_3\n",
    "print (graph_4)\n"
   ]
  },
  {
   "cell_type": "code",
   "execution_count": 150,
   "metadata": {},
   "outputs": [
    {
     "ename": "NameError",
     "evalue": "name 'node_b' is not defined",
     "output_type": "error",
     "traceback": [
      "\u001b[1;31m---------------------------------------------------------------------------\u001b[0m",
      "\u001b[1;31mNameError\u001b[0m                                 Traceback (most recent call last)",
      "\u001b[1;32m<ipython-input-150-3aabe573fccb>\u001b[0m in \u001b[0;36m<module>\u001b[1;34m()\u001b[0m\n\u001b[1;32m----> 1\u001b[1;33m \u001b[0mgraph_1\u001b[0m\u001b[1;33m=\u001b[0m \u001b[0mGraph\u001b[0m\u001b[1;33m(\u001b[0m\u001b[1;34m'graph_1'\u001b[0m\u001b[1;33m,\u001b[0m\u001b[1;33m[\u001b[0m\u001b[0mnode_a\u001b[0m\u001b[1;33m,\u001b[0m\u001b[0mnode_b\u001b[0m\u001b[1;33m,\u001b[0m\u001b[0mnode_c\u001b[0m\u001b[1;33m,\u001b[0m\u001b[0mnode_d\u001b[0m\u001b[1;33m,\u001b[0m\u001b[0mnode_e\u001b[0m\u001b[1;33m,\u001b[0m\u001b[0mnode_f\u001b[0m\u001b[1;33m]\u001b[0m\u001b[1;33m)\u001b[0m\u001b[1;33m\u001b[0m\u001b[0m\n\u001b[0m\u001b[0;32m      2\u001b[0m \u001b[0mprint\u001b[0m\u001b[1;33m(\u001b[0m \u001b[0mgraph_1\u001b[0m\u001b[1;33m)\u001b[0m\u001b[1;33m\u001b[0m\u001b[0m\n\u001b[0;32m      3\u001b[0m \u001b[0mprint\u001b[0m \u001b[1;33m(\u001b[0m\u001b[0mgraph_1\u001b[0m\u001b[1;33m.\u001b[0m\u001b[0mfind_shortest_path_all\u001b[0m\u001b[1;33m(\u001b[0m\u001b[1;34m'a'\u001b[0m\u001b[1;33m)\u001b[0m\u001b[1;33m)\u001b[0m\u001b[1;33m\u001b[0m\u001b[0m\n\u001b[0;32m      4\u001b[0m \u001b[0mprint\u001b[0m \u001b[1;33m(\u001b[0m\u001b[0mgraph_1\u001b[0m\u001b[1;33m.\u001b[0m\u001b[0mfind_shortest_path\u001b[0m\u001b[1;33m(\u001b[0m\u001b[1;34m'a'\u001b[0m\u001b[1;33m,\u001b[0m\u001b[1;34m'c'\u001b[0m\u001b[1;33m)\u001b[0m\u001b[1;33m)\u001b[0m\u001b[1;33m\u001b[0m\u001b[0m\n\u001b[0;32m      5\u001b[0m \u001b[0mgraph_1\u001b[0m\u001b[1;33m=\u001b[0m \u001b[0mGraph\u001b[0m\u001b[1;33m(\u001b[0m\u001b[1;34m'graph_1'\u001b[0m\u001b[1;33m,\u001b[0m\u001b[1;33m[\u001b[0m\u001b[0mnode_a\u001b[0m\u001b[1;33m,\u001b[0m\u001b[0mnode_b\u001b[0m\u001b[1;33m,\u001b[0m\u001b[0mnode_c\u001b[0m\u001b[1;33m]\u001b[0m\u001b[1;33m)\u001b[0m\u001b[1;33m\u001b[0m\u001b[0m\n",
      "\u001b[1;31mNameError\u001b[0m: name 'node_b' is not defined"
     ]
    }
   ],
   "source": [
    "graph_1= Graph('graph_1',[node_a,node_b,node_c,node_d,node_e,node_f])\n",
    "print( graph_1)\n",
    "print (graph_1.find_shortest_path_all('a'))\n",
    "print (graph_1.find_shortest_path('a','c'))\n",
    "graph_1= Graph('graph_1',[node_a,node_b,node_c])\n",
    "graph_2= Graph('graph_2',[node_a,node_B])\n",
    "print( graph_1)\n",
    "print (graph_2)\n",
    "print (graph_2+graph_1)\n",
    "graph_2= Graph('graph_2',[node_1,node_2,node_3,node_4,node_5,node_6,node_7,node_8,node_9,node_10])\n",
    "print (graph_2)\n",
    "# print graph_2+graph_1\n",
    "graph_1.remove_node('c')\n",
    "graph_1.remove_node('d')\n",
    "print( \"is 'c' in graph_1 ? {}\".format ('c'in graph_1))\n",
    "print ( graph_1.is_edge('f','c'))\n",
    "print (graph_1.get_edge_weight('a','c'))\n",
    "print (graph_1.get_edge_weight('a','d'))#This method should return None if to_name is not a neighbor of frm_name.\n",
    "print (graph_1.get_edge_weight('f','d')) #This method should return None if frm_name or to_name are not in self.\n",
    "print (graph_1.remove_edge('f','d'))\n",
    "graph_1.add_edge('f','c',2)\n",
    "print (graph_1)\n",
    "print (graph_2.get_path_weight([2,4,5,6]))\n",
    "print ( graph_2.get_path_weight([2,4,1,6])) # 1 is not a neighbor of 4\n",
    "print (graph_2.is_reachable(10,1))\n",
    "print (graph_1.find_shortest_path_all('a'))"
   ]
  },
  {
   "cell_type": "markdown",
   "metadata": {},
   "source": [
    "### Task 3-The roadmap implementation "
   ]
  },
  {
   "cell_type": "code",
   "execution_count": 222,
   "metadata": {},
   "outputs": [
    {
     "name": "stdout",
     "output_type": "stream",
     "text": [
      "For File travelsEW.csv on line 306 there is a Value Error\n",
      "For File travelsEW.csv on line 816 there is a Value Error\n"
     ]
    },
    {
     "ename": "NameError",
     "evalue": "name 'Node' is not defined",
     "output_type": "error",
     "traceback": [
      "\u001b[1;31m---------------------------------------------------------------------------\u001b[0m",
      "\u001b[1;31mNameError\u001b[0m                                 Traceback (most recent call last)",
      "\u001b[1;32m<ipython-input-222-80f24df70f95>\u001b[0m in \u001b[0;36m<module>\u001b[1;34m()\u001b[0m\n\u001b[0;32m     50\u001b[0m \u001b[0mWE_Date_Format\u001b[0m \u001b[1;33m=\u001b[0m \u001b[1;34m\"%I:%M:%S%p ; %b %d %y\"\u001b[0m\u001b[1;33m\u001b[0m\u001b[0m\n\u001b[0;32m     51\u001b[0m \u001b[1;33m\u001b[0m\u001b[0m\n\u001b[1;32m---> 52\u001b[1;33m \u001b[0mEW_Graph\u001b[0m \u001b[1;33m=\u001b[0m\u001b[0mCreate_Graph_With_Edges\u001b[0m\u001b[1;33m(\u001b[0m\u001b[1;34m'EW_graph'\u001b[0m\u001b[1;33m,\u001b[0m\u001b[0mEW_File_Name\u001b[0m\u001b[1;33m,\u001b[0m\u001b[0mEW_Date_Format\u001b[0m\u001b[1;33m)\u001b[0m\u001b[1;33m\u001b[0m\u001b[0m\n\u001b[0m\u001b[0;32m     53\u001b[0m \u001b[0mWE_Graph\u001b[0m \u001b[1;33m=\u001b[0m\u001b[0mCreate_Graph_With_Edges\u001b[0m\u001b[1;33m(\u001b[0m\u001b[1;34m'WE_graph'\u001b[0m\u001b[1;33m,\u001b[0m\u001b[0mWE_File_Name\u001b[0m\u001b[1;33m,\u001b[0m\u001b[0mWE_Date_Format\u001b[0m\u001b[1;33m)\u001b[0m\u001b[1;33m\u001b[0m\u001b[0m\n\u001b[0;32m     54\u001b[0m \u001b[0mUnited_Graph\u001b[0m \u001b[1;33m=\u001b[0m \u001b[0mEW_Graph\u001b[0m \u001b[1;33m+\u001b[0m \u001b[0mWE_Graph\u001b[0m\u001b[1;33m\u001b[0m\u001b[0m\n",
      "\u001b[1;32m<ipython-input-222-80f24df70f95>\u001b[0m in \u001b[0;36mCreate_Graph_With_Edges\u001b[1;34m(Graph_Name, File_Name, Date_Format)\u001b[0m\n\u001b[0;32m     38\u001b[0m     \u001b[0mTravel_List\u001b[0m \u001b[1;33m=\u001b[0m \u001b[0mGet_Road_Trip_Time\u001b[0m\u001b[1;33m(\u001b[0m\u001b[0mFile_Name\u001b[0m\u001b[1;33m,\u001b[0m \u001b[0mDate_Format\u001b[0m\u001b[1;33m)\u001b[0m\u001b[1;33m\u001b[0m\u001b[0m\n\u001b[0;32m     39\u001b[0m     \u001b[0mRoads\u001b[0m       \u001b[1;33m=\u001b[0m \u001b[0mset\u001b[0m\u001b[1;33m(\u001b[0m\u001b[0mmap\u001b[0m\u001b[1;33m(\u001b[0m\u001b[1;32mlambda\u001b[0m \u001b[0mx\u001b[0m\u001b[1;33m:\u001b[0m \u001b[0mx\u001b[0m\u001b[1;33m[\u001b[0m\u001b[1;36m0\u001b[0m\u001b[1;33m]\u001b[0m\u001b[1;33m,\u001b[0m \u001b[0mTravel_List\u001b[0m\u001b[1;33m)\u001b[0m\u001b[1;33m)\u001b[0m\u001b[1;33m\u001b[0m\u001b[0m\n\u001b[1;32m---> 40\u001b[1;33m     \u001b[0mNew_Graph\u001b[0m   \u001b[1;33m=\u001b[0m \u001b[0mGraph\u001b[0m\u001b[1;33m(\u001b[0m\u001b[0mGraph_Name\u001b[0m\u001b[1;33m,\u001b[0m \u001b[1;33m[\u001b[0m\u001b[0mNode\u001b[0m\u001b[1;33m(\u001b[0m\u001b[0mitem\u001b[0m\u001b[1;33m)\u001b[0m \u001b[1;32mfor\u001b[0m \u001b[0mitem\u001b[0m \u001b[1;32min\u001b[0m \u001b[1;33m[\u001b[0m\u001b[1;34m'Center'\u001b[0m\u001b[1;33m,\u001b[0m \u001b[1;34m'North'\u001b[0m\u001b[1;33m,\u001b[0m \u001b[1;34m'South'\u001b[0m\u001b[1;33m,\u001b[0m \u001b[1;34m'East'\u001b[0m\u001b[1;33m,\u001b[0m \u001b[1;34m'West'\u001b[0m\u001b[1;33m]\u001b[0m\u001b[1;33m]\u001b[0m\u001b[1;33m)\u001b[0m\u001b[1;33m\u001b[0m\u001b[0m\n\u001b[0m\u001b[0;32m     41\u001b[0m     \u001b[1;32mfor\u001b[0m \u001b[0mEdges\u001b[0m \u001b[1;32min\u001b[0m \u001b[0mRoads\u001b[0m\u001b[1;33m:\u001b[0m\u001b[1;33m\u001b[0m\u001b[0m\n\u001b[0;32m     42\u001b[0m         \u001b[0mAvg_Time\u001b[0m \u001b[1;33m=\u001b[0m \u001b[0mGet_Road_AVG_Travel_Time\u001b[0m\u001b[1;33m(\u001b[0m\u001b[0mEdges\u001b[0m\u001b[1;33m,\u001b[0m \u001b[0mTravel_List\u001b[0m\u001b[1;33m)\u001b[0m\u001b[1;33m\u001b[0m\u001b[0m\n",
      "\u001b[1;32m<ipython-input-222-80f24df70f95>\u001b[0m in \u001b[0;36m<listcomp>\u001b[1;34m(.0)\u001b[0m\n\u001b[0;32m     38\u001b[0m     \u001b[0mTravel_List\u001b[0m \u001b[1;33m=\u001b[0m \u001b[0mGet_Road_Trip_Time\u001b[0m\u001b[1;33m(\u001b[0m\u001b[0mFile_Name\u001b[0m\u001b[1;33m,\u001b[0m \u001b[0mDate_Format\u001b[0m\u001b[1;33m)\u001b[0m\u001b[1;33m\u001b[0m\u001b[0m\n\u001b[0;32m     39\u001b[0m     \u001b[0mRoads\u001b[0m       \u001b[1;33m=\u001b[0m \u001b[0mset\u001b[0m\u001b[1;33m(\u001b[0m\u001b[0mmap\u001b[0m\u001b[1;33m(\u001b[0m\u001b[1;32mlambda\u001b[0m \u001b[0mx\u001b[0m\u001b[1;33m:\u001b[0m \u001b[0mx\u001b[0m\u001b[1;33m[\u001b[0m\u001b[1;36m0\u001b[0m\u001b[1;33m]\u001b[0m\u001b[1;33m,\u001b[0m \u001b[0mTravel_List\u001b[0m\u001b[1;33m)\u001b[0m\u001b[1;33m)\u001b[0m\u001b[1;33m\u001b[0m\u001b[0m\n\u001b[1;32m---> 40\u001b[1;33m     \u001b[0mNew_Graph\u001b[0m   \u001b[1;33m=\u001b[0m \u001b[0mGraph\u001b[0m\u001b[1;33m(\u001b[0m\u001b[0mGraph_Name\u001b[0m\u001b[1;33m,\u001b[0m \u001b[1;33m[\u001b[0m\u001b[0mNode\u001b[0m\u001b[1;33m(\u001b[0m\u001b[0mitem\u001b[0m\u001b[1;33m)\u001b[0m \u001b[1;32mfor\u001b[0m \u001b[0mitem\u001b[0m \u001b[1;32min\u001b[0m \u001b[1;33m[\u001b[0m\u001b[1;34m'Center'\u001b[0m\u001b[1;33m,\u001b[0m \u001b[1;34m'North'\u001b[0m\u001b[1;33m,\u001b[0m \u001b[1;34m'South'\u001b[0m\u001b[1;33m,\u001b[0m \u001b[1;34m'East'\u001b[0m\u001b[1;33m,\u001b[0m \u001b[1;34m'West'\u001b[0m\u001b[1;33m]\u001b[0m\u001b[1;33m]\u001b[0m\u001b[1;33m)\u001b[0m\u001b[1;33m\u001b[0m\u001b[0m\n\u001b[0m\u001b[0;32m     41\u001b[0m     \u001b[1;32mfor\u001b[0m \u001b[0mEdges\u001b[0m \u001b[1;32min\u001b[0m \u001b[0mRoads\u001b[0m\u001b[1;33m:\u001b[0m\u001b[1;33m\u001b[0m\u001b[0m\n\u001b[0;32m     42\u001b[0m         \u001b[0mAvg_Time\u001b[0m \u001b[1;33m=\u001b[0m \u001b[0mGet_Road_AVG_Travel_Time\u001b[0m\u001b[1;33m(\u001b[0m\u001b[0mEdges\u001b[0m\u001b[1;33m,\u001b[0m \u001b[0mTravel_List\u001b[0m\u001b[1;33m)\u001b[0m\u001b[1;33m\u001b[0m\u001b[0m\n",
      "\u001b[1;31mNameError\u001b[0m: name 'Node' is not defined"
     ]
    }
   ],
   "source": [
    "from datetime import datetime\n",
    "\n",
    "def Get_Road_Trip_Time(File_Name, File_Date_Format):\n",
    "    Travel_Track = []\n",
    "    with open(File_Name, 'r') as f:\n",
    "        for LineNum, Line in enumerate(f, 1):  \n",
    "            Line_Read = Line.strip().split(',')  \n",
    "            if (LineNum == 1) or (len(Line_Read) != 4):\n",
    "                continue\n",
    "            else:\n",
    "                try:\n",
    "                    Start_Time = datetime.strptime(Line_Read[1], File_Date_Format)\n",
    "                    End_Time = datetime.strptime(Line_Read[3],File_Date_Format)\n",
    "                    Actual_Travel_Time = End_Time - Start_Time\n",
    "                except ValueError:  \n",
    "                    print ('For File {} on line {} there is a Value Error'.format(File_Name,LineNum))\n",
    "                except IndexError:  \n",
    "                    print ('For File {} on line {} there is an Index Error'.format(File_Name,LineNum))\n",
    "                Travel_Track.append(((Line_Read[0], Line_Read[2]), Actual_Travel_Time.total_seconds()))\n",
    "    return list(Travel_Track)\n",
    "\n",
    "\n",
    "\n",
    "def Get_Road_AVG_Travel_Time(Road, data_list):\n",
    "\n",
    "    City_Start, City_End = Road\n",
    "    travel_time_list = list(filter(lambda x: x[0][0] == City_Start and x[0][1] == City_End, data_list))\n",
    "    if len(travel_time_list) > 1:\n",
    "        sum_time = sum(map(lambda x: x[1], travel_time_list))\n",
    "        return int(round((sum_time / len(travel_time_list))))\n",
    "    else:\n",
    "        return None\n",
    "\n",
    "def Create_Graph_With_Edges(Graph_Name,File_Name,Date_Format):\n",
    "\n",
    "    Travel_List = Get_Road_Trip_Time(File_Name, Date_Format)\n",
    "    Roads       = set(map(lambda x: x[0], Travel_List))\n",
    "    New_Graph   = Graph(Graph_Name, [Node(item) for item in ['Center', 'North', 'South', 'East', 'West']])\n",
    "    for Edges in Roads:\n",
    "        Avg_Time = Get_Road_AVG_Travel_Time(Edges, Travel_List)\n",
    "        if Avg_Time != None :\n",
    "            New_Graph.Add_Edge(Edges[0],Edges[1],Avg_Time)\n",
    "    return New_Graph\n",
    "\n",
    "EW_File_Name = 'travelsEW.csv'\n",
    "EW_Date_Format = \"%d/%m/%Y %Hh%Mm\"\n",
    "WE_File_Name = 'travelsWE.csv'\n",
    "WE_Date_Format = \"%I:%M:%S%p ; %b %d %y\"  \n",
    " \n",
    "EW_Graph =Create_Graph_With_Edges('EW_graph',EW_File_Name,EW_Date_Format)\n",
    "WE_Graph =Create_Graph_With_Edges('WE_graph',WE_File_Name,WE_Date_Format)\n",
    "United_Graph = EW_Graph + WE_Graph\n",
    "print (\"Road Map:\\n{}\".format(United_Graph))\n",
    "\n"
   ]
  },
  {
   "cell_type": "markdown",
   "metadata": {},
   "source": [
    "## Part III-Part III – Non-directional graph \n"
   ]
  },
  {
   "cell_type": "markdown",
   "metadata": {},
   "source": [
    "### Task 1 – define the class "
   ]
  },
  {
   "cell_type": "code",
   "execution_count": 11,
   "metadata": {},
   "outputs": [],
   "source": [
    "#Implement the NonDirectionalGraph class as a sub-class of Graph\n",
    "\n",
    "    \n",
    "class NonDirectionalGraph(Graph):\n",
    "    def __init__(self, name, nodes=None):\n",
    "     \n",
    "        self.name = name\n",
    "        self.nodes = {}\n",
    "        for node in nodes:\n",
    "            self.add_node(node)\n",
    "      \n",
    "    def add_node(self, node):\n",
    " \n",
    "        Graph.add_node(self, node)\n",
    "     \n",
    "        for neighbor_name in node.neighbors:\n",
    "            weight = node.neighbors[neighbor_name]\n",
    "            to_name = node.name\n",
    "            self.add_edge(neighbor_name, to_name, weight)\n",
    "            \n",
    "            \n",
    "        def __add__(self, other):\n",
    "            new_graph = NonDirectionalGraph(self.name + ' + ' + other.name,[])\n",
    "            for node in self.nodes.values():\n",
    "                new_graph.add_node(node)\n",
    "            for node in other.nodes.values():\n",
    "                new_graph.add_node(node)\n",
    "        return new_graph\n",
    "\n",
    "    def add_edge(self, frm_name, to_name, weight=1):\n",
    "        \n",
    "        Graph.add_edge(self, frm_name, to_name, weight)\n",
    "        Graph.add_edge(self, to_name, frm_name, weight)\n",
    "\n",
    "    def remove_edge(self, frm_name, to_name):\n",
    "        \n",
    "        r_edge_f_t = Graph.remove_edge(self,frm_name,to_name)\n",
    "        r_edge_t_f = Graph.remove_edge(self,to_name,frm_name)\n",
    "        return int((r_edge_f_t +r_edge_t_f)/2)  if r_edge_f_t and r_edge_t_f else None\n",
    "            \n",
    "          "
   ]
  },
  {
   "cell_type": "markdown",
   "metadata": {},
   "source": [
    "### Task 2 – The social network implementation "
   ]
  },
  {
   "cell_type": "code",
   "execution_count": 12,
   "metadata": {},
   "outputs": [],
   "source": [
    "fname = \"C:\\\\Users\\\\TheRedHeads\\\\Documents\\\\2019\\\\Naya\\\\python\\\\mypro\\\\social.txt\"\n",
    "people = set()"
   ]
  },
  {
   "cell_type": "markdown",
   "metadata": {},
   "source": [
    "#### Question 1 "
   ]
  },
  {
   "cell_type": "code",
   "execution_count": 13,
   "metadata": {},
   "outputs": [
    {
     "name": "stdout",
     "output_type": "stream",
     "text": [
      "The highest number of friendships at the same time is: 54\n"
     ]
    }
   ],
   "source": [
    "\n",
    "#What was the highest number of simultaneous friendships?\n",
    "\n",
    "#fine the lines which said 'became friends' and add them andif they ' cancelled their friendship'deduct.\n",
    "#update the maxfriendcounter\n",
    "\n",
    "max_friendship_counter = 0\n",
    "adddeduct_the_friendship_counter = 0\n",
    "\n",
    "\n",
    "\n",
    "with open(fname, 'r') as f:\n",
    "    for i, line in enumerate(f, 1):          # print i\n",
    "        if 'became' in line : \n",
    "            adddeduct_the_friendship_counter += 1\n",
    "            max_friendship_counter = adddeduct_the_friendship_counter if adddeduct_the_friendship_counter > max_friendship_counter else max_friendship_counter\n",
    "        else:\n",
    "            adddeduct_the_friendship_counter -= 1\n",
    "            \n",
    "            \n",
    "print (\"The highest number of friendships at the same time is: \"+str(max_friendship_counter))"
   ]
  },
  {
   "cell_type": "markdown",
   "metadata": {},
   "source": [
    "#### Question 2 "
   ]
  },
  {
   "cell_type": "code",
   "execution_count": 14,
   "metadata": {},
   "outputs": [
    {
     "name": "stdout",
     "output_type": "stream",
     "text": [
      "The maximum number of friends Reuben had simultaneously: 10\n"
     ]
    }
   ],
   "source": [
    "max_friendship_counter = 0\n",
    "sim_friendship = 0\n",
    "\n",
    "with open(fname, 'r') as f:\n",
    "    for i, line in enumerate(f, 1):\n",
    "        if 'Reuben' in line :\n",
    "            if 'became' in line : \n",
    "                sim_friendship += 1\n",
    "                max_friendship_counter = sim_friendship if sim_friendship> max_friendship_counter else max_friendship_counter\n",
    "            else:\n",
    "                sim_friendship -= 1\n",
    "                \n",
    "\n",
    "print (\"The maximum number of friends Reuben had simultaneously: \" +str(max_friendship_counter))"
   ]
  }
 ],
 "metadata": {
  "kernelspec": {
   "display_name": "Python 3",
   "language": "python",
   "name": "python3"
  },
  "language_info": {
   "codemirror_mode": {
    "name": "ipython",
    "version": 3
   },
   "file_extension": ".py",
   "mimetype": "text/x-python",
   "name": "python",
   "nbconvert_exporter": "python",
   "pygments_lexer": "ipython3",
   "version": "3.6.4"
  }
 },
 "nbformat": 4,
 "nbformat_minor": 2
}
